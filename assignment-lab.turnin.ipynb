{
 "cells": [
  {
   "cell_type": "markdown",
   "metadata": {
    "cse142.is_response": true,
    "deletable": false,
    "editable": true,
    "tags": []
   },
   "source": [
    "<div class=\"namebox\">    \n",
    "Double Click to edit and enter your\n",
    "\n",
    "1.  David Wang\n",
    "2.  A16035204\n",
    "3.  dlwang@ucsd.edu\n",
    "    \n",
    "</div>"
   ]
  },
  {
   "cell_type": "code",
   "execution_count": 8,
   "metadata": {
    "cse142.is_response": true,
    "cse142.points": 1,
    "cse142.question_type": "completeness",
    "deletable": false,
    "editable": false,
    "tags": []
   },
   "outputs": [
    {
     "data": {
      "text/html": [
       "<style type=\"text/css\">\n",
       "#T_e087d_row0_col0, #T_e087d_row0_col1, #T_e087d_row0_col2, #T_e087d_row0_col3, #T_e087d_row0_col4, #T_e087d_row0_col5, #T_e087d_row0_col6, #T_e087d_row0_col7, #T_e087d_row0_col8, #T_e087d_row1_col0, #T_e087d_row1_col1, #T_e087d_row1_col2, #T_e087d_row1_col3, #T_e087d_row1_col4, #T_e087d_row1_col5, #T_e087d_row1_col6, #T_e087d_row1_col7, #T_e087d_row1_col8, #T_e087d_row2_col0, #T_e087d_row2_col1, #T_e087d_row2_col2, #T_e087d_row2_col3, #T_e087d_row2_col4, #T_e087d_row2_col5, #T_e087d_row2_col6, #T_e087d_row2_col7, #T_e087d_row2_col8, #T_e087d_row3_col0, #T_e087d_row3_col1, #T_e087d_row3_col2, #T_e087d_row3_col3, #T_e087d_row3_col4, #T_e087d_row3_col5, #T_e087d_row3_col6, #T_e087d_row3_col7, #T_e087d_row3_col8 {\n",
       "  font-family: monospace;\n",
       "}\n",
       "</style>\n",
       "<table id=\"T_e087d\">\n",
       "  <thead>\n",
       "    <tr>\n",
       "      <th class=\"blank level0\" >&nbsp;</th>\n",
       "      <th id=\"T_e087d_level0_col0\" class=\"col_heading level0 col0\" >index</th>\n",
       "      <th id=\"T_e087d_level0_col1\" class=\"col_heading level0 col1\" >threads</th>\n",
       "      <th id=\"T_e087d_level0_col2\" class=\"col_heading level0 col2\" >size</th>\n",
       "      <th id=\"T_e087d_level0_col3\" class=\"col_heading level0 col3\" >arg1</th>\n",
       "      <th id=\"T_e087d_level0_col4\" class=\"col_heading level0 col4\" >IC</th>\n",
       "      <th id=\"T_e087d_level0_col5\" class=\"col_heading level0 col5\" >CPI</th>\n",
       "      <th id=\"T_e087d_level0_col6\" class=\"col_heading level0 col6\" >CT</th>\n",
       "      <th id=\"T_e087d_level0_col7\" class=\"col_heading level0 col7\" >ET</th>\n",
       "      <th id=\"T_e087d_level0_col8\" class=\"col_heading level0 col8\" >L1_dcache_miss_rate</th>\n",
       "    </tr>\n",
       "  </thead>\n",
       "  <tbody>\n",
       "    <tr>\n",
       "      <th id=\"T_e087d_level0_row0\" class=\"row_heading level0 row0\" >0</th>\n",
       "      <td id=\"T_e087d_row0_col0\" class=\"data row0 col0\" >0</td>\n",
       "      <td id=\"T_e087d_row0_col1\" class=\"data row0 col1\" >1</td>\n",
       "      <td id=\"T_e087d_row0_col2\" class=\"data row0 col2\" >4096</td>\n",
       "      <td id=\"T_e087d_row0_col3\" class=\"data row0 col3\" >8</td>\n",
       "      <td id=\"T_e087d_row0_col4\" class=\"data row0 col4\" >343121763</td>\n",
       "      <td id=\"T_e087d_row0_col5\" class=\"data row0 col5\" >0.833461</td>\n",
       "      <td id=\"T_e087d_row0_col6\" class=\"data row0 col6\" >0.389616</td>\n",
       "      <td id=\"T_e087d_row0_col7\" class=\"data row0 col7\" >0.111422</td>\n",
       "      <td id=\"T_e087d_row0_col8\" class=\"data row0 col8\" >0.000044</td>\n",
       "    </tr>\n",
       "    <tr>\n",
       "      <th id=\"T_e087d_level0_row1\" class=\"row_heading level0 row1\" >1</th>\n",
       "      <td id=\"T_e087d_row1_col0\" class=\"data row1 col0\" >1</td>\n",
       "      <td id=\"T_e087d_row1_col1\" class=\"data row1 col1\" >2</td>\n",
       "      <td id=\"T_e087d_row1_col2\" class=\"data row1 col2\" >4096</td>\n",
       "      <td id=\"T_e087d_row1_col3\" class=\"data row1 col3\" >8</td>\n",
       "      <td id=\"T_e087d_row1_col4\" class=\"data row1 col4\" >689177382</td>\n",
       "      <td id=\"T_e087d_row1_col5\" class=\"data row1 col5\" >0.818640</td>\n",
       "      <td id=\"T_e087d_row1_col6\" class=\"data row1 col6\" >0.204992</td>\n",
       "      <td id=\"T_e087d_row1_col7\" class=\"data row1 col7\" >0.115654</td>\n",
       "      <td id=\"T_e087d_row1_col8\" class=\"data row1 col8\" >0.000076</td>\n",
       "    </tr>\n",
       "    <tr>\n",
       "      <th id=\"T_e087d_level0_row2\" class=\"row_heading level0 row2\" >2</th>\n",
       "      <td id=\"T_e087d_row2_col0\" class=\"data row2 col0\" >2</td>\n",
       "      <td id=\"T_e087d_row2_col1\" class=\"data row2 col1\" >3</td>\n",
       "      <td id=\"T_e087d_row2_col2\" class=\"data row2 col2\" >4096</td>\n",
       "      <td id=\"T_e087d_row2_col3\" class=\"data row2 col3\" >8</td>\n",
       "      <td id=\"T_e087d_row2_col4\" class=\"data row2 col4\" >1039001354</td>\n",
       "      <td id=\"T_e087d_row2_col5\" class=\"data row2 col5\" >0.814892</td>\n",
       "      <td id=\"T_e087d_row2_col6\" class=\"data row2 col6\" >0.139795</td>\n",
       "      <td id=\"T_e087d_row2_col7\" class=\"data row2 col7\" >0.118361</td>\n",
       "      <td id=\"T_e087d_row2_col8\" class=\"data row2 col8\" >0.000072</td>\n",
       "    </tr>\n",
       "    <tr>\n",
       "      <th id=\"T_e087d_level0_row3\" class=\"row_heading level0 row3\" >3</th>\n",
       "      <td id=\"T_e087d_row3_col0\" class=\"data row3 col0\" >3</td>\n",
       "      <td id=\"T_e087d_row3_col1\" class=\"data row3 col1\" >4</td>\n",
       "      <td id=\"T_e087d_row3_col2\" class=\"data row3 col2\" >4096</td>\n",
       "      <td id=\"T_e087d_row3_col3\" class=\"data row3 col3\" >8</td>\n",
       "      <td id=\"T_e087d_row3_col4\" class=\"data row3 col4\" >1380833634</td>\n",
       "      <td id=\"T_e087d_row3_col5\" class=\"data row3 col5\" >0.805657</td>\n",
       "      <td id=\"T_e087d_row3_col6\" class=\"data row3 col6\" >0.107019</td>\n",
       "      <td id=\"T_e087d_row3_col7\" class=\"data row3 col7\" >0.119056</td>\n",
       "      <td id=\"T_e087d_row3_col8\" class=\"data row3 col8\" >0.000069</td>\n",
       "    </tr>\n",
       "  </tbody>\n",
       "</table>\n"
      ],
      "text/plain": [
       "<pandas.io.formats.style.Styler at 0x7fb084435610>"
      ]
     },
     "metadata": {},
     "output_type": "display_data"
    },
    {
     "data": {
      "image/png": "[encoded data removed]",
      "text/plain": [
       "<Figure size 1152x288 with 1 Axes>"
      ]
     },
     "metadata": {
      "needs_background": "light"
     },
     "output_type": "display_data"
    }
   ],
   "source": [
    "#key data_cell display_mono(render_csv(\"threads.csv\", columns=[\"threads\",\\ \n",
    "\"size\", \"arg1\", \"IC\", \"CPI\", \"CT\", \"ET\", \"L1_dcache_miss_rate\"]))\\ \n",
    "plotPE(\"threads.csv\", lines=True, what=[(\"threads\", \"IC\")])"
   ]
  },
  {
   "cell_type": "markdown",
   "metadata": {
    "cse142.is_response": true,
    "cse142.points": 1,
    "cse142.question_type": "completeness",
    "deletable": false,
    "editable": false,
    "tags": []
   },
   "source": [
    "<div class=\"alert alert-block alert-success\">\n",
    "\n",
    "### Question 1 (CSE142 & CSE142L)\n",
    "\n",
    "With 4 threads how many total instructions were executed? **Please discussion why the observed number makes sense in addition to your measurement results**.\n",
    "\n",
    "</div>"
   ]
  },
  {
   "cell_type": "markdown",
   "metadata": {
    "cse142.is_response": true,
    "cse142.points": 1,
    "cse142.question_type": "completeness",
    "deletable": false,
    "editable": true,
    "tags": []
   },
   "source": [
    "<div class=\"alert alert-block alert-success\">\n",
    "\n",
    "**Total IC:** 1380833634\n",
    "\n",
    "**Why this make sense?** Each thread adds its own IC to the total as the threads are identical.\n",
    "\n",
    "</div>"
   ]
  },
  {
   "cell_type": "markdown",
   "metadata": {
    "cse142.is_response": true,
    "cse142.points": 1,
    "cse142.question_type": "completeness",
    "deletable": false,
    "editable": false,
    "tags": []
   },
   "source": [
    "<div class=\"alert alert-block alert-warning\">\n",
    "\n",
    "### Question 2 (CSE142L Only)\n",
    "\n",
    "\n",
    "\n",
    "In the above code, will the `std::cerr` line ever execute?  Why or why not? \n",
    "    \n",
    "Please clearly state your answer and provide explainations. You need to give good enough reasons for question to receive credits.\n",
    "\n",
    "\n",
    "</div>"
   ]
  },
  {
   "cell_type": "markdown",
   "metadata": {
    "cse142.is_response": true,
    "cse142.points": 1,
    "cse142.question_type": "completeness",
    "deletable": false,
    "editable": true
   },
   "source": [
    "<div class=\"alert alert-block alert-warning\">\n",
    "\n",
    "Answer: It should be. T0 will spend time waiting for an other_id, which will happen when T1 sets other_value and flag to 1. This should mean that STF:cer never executes, but due to Out of order execution, it sometimes does.\n",
    "</div>"
   ]
  },
  {
   "cell_type": "markdown",
   "metadata": {
    "cse142.is_response": true,
    "cse142.points": 1,
    "cse142.question_type": "completeness",
    "deletable": false,
    "editable": false,
    "tags": []
   },
   "source": [
    "<div class=\"alert alert-block alert-warning\">\n",
    "\n",
    "### Question 3 (CSE142L Only)\n",
    "\n",
    "\n",
    "\n",
    "Based on the assembly above, and assuming multiple threads are running at once, explain how `shared` ends up being computed incorrectly without locks and how adding locks prevents it. Please provide explainations. You need to give good enough reasons to receive credits.\n",
    "  \n",
    "\n",
    "</div>"
   ]
  },
  {
   "cell_type": "markdown",
   "metadata": {
    "cse142.is_response": true,
    "cse142.points": 1,
    "cse142.question_type": "completeness",
    "deletable": false,
    "editable": true
   },
   "source": [
    "<div class=\"alert alert-block alert-warning\">    \n",
    "\n",
    "Answer:  Without locks, the mov load command can skip a increment where when they retrieve the same value\n",
    "\n",
    "\n",
    "</div>\n"
   ]
  },
  {
   "cell_type": "code",
   "execution_count": 16,
   "metadata": {
    "cse142.is_response": true,
    "cse142.points": 1,
    "cse142.question_type": "completeness",
    "deleteable": false,
    "editable": false,
    "tags": []
   },
   "outputs": [
    {
     "data": {
      "text/html": [
       "<style type=\"text/css\">\n",
       "#T_4249b_row0_col0, #T_4249b_row0_col1, #T_4249b_row0_col2, #T_4249b_row0_col3, #T_4249b_row0_col4, #T_4249b_row0_col5, #T_4249b_row0_col6, #T_4249b_row1_col0, #T_4249b_row1_col1, #T_4249b_row1_col2, #T_4249b_row1_col3, #T_4249b_row1_col4, #T_4249b_row1_col5, #T_4249b_row1_col6, #T_4249b_row2_col0, #T_4249b_row2_col1, #T_4249b_row2_col2, #T_4249b_row2_col3, #T_4249b_row2_col4, #T_4249b_row2_col5, #T_4249b_row2_col6, #T_4249b_row3_col0, #T_4249b_row3_col1, #T_4249b_row3_col2, #T_4249b_row3_col3, #T_4249b_row3_col4, #T_4249b_row3_col5, #T_4249b_row3_col6, #T_4249b_row4_col0, #T_4249b_row4_col1, #T_4249b_row4_col2, #T_4249b_row4_col3, #T_4249b_row4_col4, #T_4249b_row4_col5, #T_4249b_row4_col6, #T_4249b_row5_col0, #T_4249b_row5_col1, #T_4249b_row5_col2, #T_4249b_row5_col3, #T_4249b_row5_col4, #T_4249b_row5_col5, #T_4249b_row5_col6, #T_4249b_row6_col0, #T_4249b_row6_col1, #T_4249b_row6_col2, #T_4249b_row6_col3, #T_4249b_row6_col4, #T_4249b_row6_col5, #T_4249b_row6_col6, #T_4249b_row7_col0, #T_4249b_row7_col1, #T_4249b_row7_col2, #T_4249b_row7_col3, #T_4249b_row7_col4, #T_4249b_row7_col5, #T_4249b_row7_col6 {\n",
       "  font-family: monospace;\n",
       "}\n",
       "</style>\n",
       "<table id=\"T_4249b\">\n",
       "  <thead>\n",
       "    <tr>\n",
       "      <th class=\"blank level0\" >&nbsp;</th>\n",
       "      <th id=\"T_4249b_level0_col0\" class=\"col_heading level0 col0\" >threads</th>\n",
       "      <th id=\"T_4249b_level0_col1\" class=\"col_heading level0 col1\" >locks</th>\n",
       "      <th id=\"T_4249b_level0_col2\" class=\"col_heading level0 col2\" >IC per increment</th>\n",
       "      <th id=\"T_4249b_level0_col3\" class=\"col_heading level0 col3\" >CPI</th>\n",
       "      <th id=\"T_4249b_level0_col4\" class=\"col_heading level0 col4\" >ET</th>\n",
       "      <th id=\"T_4249b_level0_col5\" class=\"col_heading level0 col5\" >Cycles per increment</th>\n",
       "      <th id=\"T_4249b_level0_col6\" class=\"col_heading level0 col6\" >L1 Misses Per Increment</th>\n",
       "    </tr>\n",
       "  </thead>\n",
       "  <tbody>\n",
       "    <tr>\n",
       "      <th id=\"T_4249b_level0_row0\" class=\"row_heading level0 row0\" >0</th>\n",
       "      <td id=\"T_4249b_row0_col0\" class=\"data row0 col0\" >1</td>\n",
       "      <td id=\"T_4249b_row0_col1\" class=\"data row0 col1\" >1</td>\n",
       "      <td id=\"T_4249b_row0_col2\" class=\"data row0 col2\" >58.985852</td>\n",
       "      <td id=\"T_4249b_row0_col3\" class=\"data row0 col3\" >0.650349</td>\n",
       "      <td id=\"T_4249b_row0_col4\" class=\"data row0 col4\" >0.880281</td>\n",
       "      <td id=\"T_4249b_row0_col5\" class=\"data row0 col5\" >38.361406</td>\n",
       "      <td id=\"T_4249b_row0_col6\" class=\"data row0 col6\" >0.000179</td>\n",
       "    </tr>\n",
       "    <tr>\n",
       "      <th id=\"T_4249b_level0_row1\" class=\"row_heading level0 row1\" >1</th>\n",
       "      <td id=\"T_4249b_row1_col0\" class=\"data row1 col0\" >1</td>\n",
       "      <td id=\"T_4249b_row1_col1\" class=\"data row1 col1\" >0</td>\n",
       "      <td id=\"T_4249b_row1_col2\" class=\"data row1 col2\" >4.977483</td>\n",
       "      <td id=\"T_4249b_row1_col3\" class=\"data row1 col3\" >0.725654</td>\n",
       "      <td id=\"T_4249b_row1_col4\" class=\"data row1 col4\" >0.094463</td>\n",
       "      <td id=\"T_4249b_row1_col5\" class=\"data row1 col5\" >3.611928</td>\n",
       "      <td id=\"T_4249b_row1_col6\" class=\"data row1 col6\" >0.000133</td>\n",
       "    </tr>\n",
       "    <tr>\n",
       "      <th id=\"T_4249b_level0_row2\" class=\"row_heading level0 row2\" >2</th>\n",
       "      <td id=\"T_4249b_row2_col0\" class=\"data row2 col0\" >2</td>\n",
       "      <td id=\"T_4249b_row2_col1\" class=\"data row2 col1\" >1</td>\n",
       "      <td id=\"T_4249b_row2_col2\" class=\"data row2 col2\" >207.888926</td>\n",
       "      <td id=\"T_4249b_row2_col3\" class=\"data row2 col3\" >1.934272</td>\n",
       "      <td id=\"T_4249b_row2_col4\" class=\"data row2 col4\" >2.308439</td>\n",
       "      <td id=\"T_4249b_row2_col5\" class=\"data row2 col5\" >402.113676</td>\n",
       "      <td id=\"T_4249b_row2_col6\" class=\"data row2 col6\" >0.602028</td>\n",
       "    </tr>\n",
       "    <tr>\n",
       "      <th id=\"T_4249b_level0_row3\" class=\"row_heading level0 row3\" >3</th>\n",
       "      <td id=\"T_4249b_row3_col0\" class=\"data row3 col0\" >2</td>\n",
       "      <td id=\"T_4249b_row3_col1\" class=\"data row3 col1\" >0</td>\n",
       "      <td id=\"T_4249b_row3_col2\" class=\"data row3 col2\" >9.941420</td>\n",
       "      <td id=\"T_4249b_row3_col3\" class=\"data row3 col3\" >0.982495</td>\n",
       "      <td id=\"T_4249b_row3_col4\" class=\"data row3 col4\" >0.067842</td>\n",
       "      <td id=\"T_4249b_row3_col5\" class=\"data row3 col5\" >9.767397</td>\n",
       "      <td id=\"T_4249b_row3_col6\" class=\"data row3 col6\" >0.044628</td>\n",
       "    </tr>\n",
       "    <tr>\n",
       "      <th id=\"T_4249b_level0_row4\" class=\"row_heading level0 row4\" >4</th>\n",
       "      <td id=\"T_4249b_row4_col0\" class=\"data row4 col0\" >3</td>\n",
       "      <td id=\"T_4249b_row4_col1\" class=\"data row4 col1\" >1</td>\n",
       "      <td id=\"T_4249b_row4_col2\" class=\"data row4 col2\" >347.729193</td>\n",
       "      <td id=\"T_4249b_row4_col3\" class=\"data row4 col3\" >2.190634</td>\n",
       "      <td id=\"T_4249b_row4_col4\" class=\"data row4 col4\" >2.078008</td>\n",
       "      <td id=\"T_4249b_row4_col5\" class=\"data row4 col5\" >761.747302</td>\n",
       "      <td id=\"T_4249b_row4_col6\" class=\"data row4 col6\" >1.245370</td>\n",
       "    </tr>\n",
       "    <tr>\n",
       "      <th id=\"T_4249b_level0_row5\" class=\"row_heading level0 row5\" >5</th>\n",
       "      <td id=\"T_4249b_row5_col0\" class=\"data row5 col0\" >3</td>\n",
       "      <td id=\"T_4249b_row5_col1\" class=\"data row5 col1\" >0</td>\n",
       "      <td id=\"T_4249b_row5_col2\" class=\"data row5 col2\" >15.283235</td>\n",
       "      <td id=\"T_4249b_row5_col3\" class=\"data row5 col3\" >1.166748</td>\n",
       "      <td id=\"T_4249b_row5_col4\" class=\"data row5 col4\" >0.053705</td>\n",
       "      <td id=\"T_4249b_row5_col5\" class=\"data row5 col5\" >17.831691</td>\n",
       "      <td id=\"T_4249b_row5_col6\" class=\"data row5 col6\" >0.051533</td>\n",
       "    </tr>\n",
       "    <tr>\n",
       "      <th id=\"T_4249b_level0_row6\" class=\"row_heading level0 row6\" >6</th>\n",
       "      <td id=\"T_4249b_row6_col0\" class=\"data row6 col0\" >4</td>\n",
       "      <td id=\"T_4249b_row6_col1\" class=\"data row6 col1\" >1</td>\n",
       "      <td id=\"T_4249b_row6_col2\" class=\"data row6 col2\" >570.685640</td>\n",
       "      <td id=\"T_4249b_row6_col3\" class=\"data row6 col3\" >2.527953</td>\n",
       "      <td id=\"T_4249b_row6_col4\" class=\"data row6 col4\" >2.420704</td>\n",
       "      <td id=\"T_4249b_row6_col5\" class=\"data row6 col5\" >1442.666206</td>\n",
       "      <td id=\"T_4249b_row6_col6\" class=\"data row6 col6\" >3.310322</td>\n",
       "    </tr>\n",
       "    <tr>\n",
       "      <th id=\"T_4249b_level0_row7\" class=\"row_heading level0 row7\" >7</th>\n",
       "      <td id=\"T_4249b_row7_col0\" class=\"data row7 col0\" >4</td>\n",
       "      <td id=\"T_4249b_row7_col1\" class=\"data row7 col1\" >0</td>\n",
       "      <td id=\"T_4249b_row7_col2\" class=\"data row7 col2\" >19.577834</td>\n",
       "      <td id=\"T_4249b_row7_col3\" class=\"data row7 col3\" >1.188334</td>\n",
       "      <td id=\"T_4249b_row7_col4\" class=\"data row7 col4\" >0.044717</td>\n",
       "      <td id=\"T_4249b_row7_col5\" class=\"data row7 col5\" >23.264998</td>\n",
       "      <td id=\"T_4249b_row7_col6\" class=\"data row7 col6\" >0.062869</td>\n",
       "    </tr>\n",
       "  </tbody>\n",
       "</table>\n"
      ],
      "text/plain": [
       "<pandas.io.formats.style.Styler at 0x7fb074ac7d30>"
      ]
     },
     "metadata": {},
     "output_type": "display_data"
    },
    {
     "data": {
      "image/png": "[encoded data removed]",
      "text/plain": [
       "<Figure size 1600x800 with 5 Axes>"
      ]
     },
     "metadata": {
      "needs_background": "light"
     },
     "output_type": "display_data"
    }
   ],
   "source": [
    "#key data_cell from notebook import * df = render_csv(\"lock_demo.csv\")\\ \n",
    "df[\"assignmentel\"] = df[\"threads\"].apply(lambda x: f\"{x} threads;\" ) + \" \" +\\ \n",
    "df[\"arg2\"].apply(lambda x: \"locks\" if x else \"no locks\") df[\"Total IC\"] =\\ \n",
    "df[\"IC\"] * df[\"threads\"] df[\"IC per increment\"] =\\ \n",
    "df[\"IC\"]/(df[\"arg1\"]/df[\"threads\"]) df[\"Cycles per increment\"] =\\ \n",
    "df[\"Cycles\"]/(df[\"arg1\"]/df[\"threads\"]) df[\"L1 Misses Per Increment\"] =\\ \n",
    "df[\"L1_dcache_misses\"]/(df[\"arg1\"]/df[\"threads\"]) df[\"locks\"] = df[\"arg2\"]\\ \n",
    "display_mono(df[[\"threads\", \"locks\", \"IC per increment\", \"CPI\", \"ET\", \"Cycles\\ \n",
    "per increment\", \"L1 Misses Per Increment\"]]) plotPEBar(df=df,\\ \n",
    "what=[(\"assignmentel\", \"IC per increment\"), (\"assignmentel\", \"CPI\"),\\ \n",
    "(\"assignmentel\", \"ET\"),  (\"assignmentel\", \"Cycles per increment\"),\\ \n",
    "(\"assignmentel\", \"L1 Misses Per Increment\")])"
   ]
  },
  {
   "cell_type": "markdown",
   "metadata": {
    "cse142.is_response": true,
    "cse142.points": 3,
    "cse142.question_type": "correctness",
    "deletable": false,
    "editable": false,
    "tags": []
   },
   "source": [
    "<div class=\"alert alert-block alert-success\"> \n",
    "\n",
    "### Question 4 (CSE142 & CSE142L)\n",
    "\n",
    "\n",
    "\n",
    "Answer the questions below:\n",
    "    \n",
    "* How much does adding locks slow down the single thread case in terms of cycles per increment? \n",
    "    \n",
    "* How much does adding a second thread slow down each increment in terms of cycles per increment? \n",
    "    \n",
    "* How many cycles does it take to take and release a lock? \n",
    "    \n",
    "For each question, please make sure to include your calculations and clearly state the final answer in this cell. If necessary, you should use LaTeX syntax for equations and formulas. Your answers must base on the experiments above.\n",
    "</div>"
   ]
  },
  {
   "cell_type": "markdown",
   "metadata": {
    "cse142.is_response": true,
    "cse142.points": 3,
    "cse142.question_type": "correctness",
    "deletable": false,
    "editable": true,
    "tags": []
   },
   "source": [
    "<div class=\"alert alert-block alert-success\">\n",
    "\n",
    "\n",
    "* How much does adding locks slow down the single thread case in terms of cycles per increment? \n",
    "    \n",
    "    Without locks, its 3.611928, and with locks its 38.361406. Slowdown is 38.361406/3.611928 which is about 10.62\n",
    "    \n",
    "* How much does adding a second thread slow down each increment in terms of cycles per increment? \n",
    "    A second thread makes cycles per increment 9.767397, which makes the slowdown 9.767397/3.611928 which is about 2.70\n",
    "    \n",
    "* How many cycles does it take to take and release a lock? \n",
    "    For 1 thread 38.361406-3.611928= 34.749478\n",
    "    for 2 threads 402.113676-9.767397 =392.346279\n",
    "    for 3 threads 761.747302-17.831691= 743.915611\n",
    "    for 4 threads 1442.666206-23.264998=1419.401208\n",
    "\n",
    "\n",
    "</div>"
   ]
  },
  {
   "cell_type": "code",
   "execution_count": 18,
   "metadata": {
    "cse142.is_response": true,
    "cse142.points": 1,
    "cse142.question_type": "completeness",
    "deleteable": false,
    "editable": false,
    "tags": []
   },
   "outputs": [
    {
     "data": {
      "text/html": [
       "<style type=\"text/css\">\n",
       "#T_31979_row0_col0, #T_31979_row0_col1, #T_31979_row0_col2, #T_31979_row0_col3, #T_31979_row0_col4, #T_31979_row0_col5, #T_31979_row0_col6, #T_31979_row0_col7, #T_31979_row0_col8, #T_31979_row0_col9, #T_31979_row0_col10, #T_31979_row1_col0, #T_31979_row1_col1, #T_31979_row1_col2, #T_31979_row1_col3, #T_31979_row1_col4, #T_31979_row1_col5, #T_31979_row1_col6, #T_31979_row1_col7, #T_31979_row1_col8, #T_31979_row1_col9, #T_31979_row1_col10 {\n",
       "  font-family: monospace;\n",
       "}\n",
       "</style>\n",
       "<table id=\"T_31979\">\n",
       "  <thead>\n",
       "    <tr>\n",
       "      <th class=\"blank level0\" >&nbsp;</th>\n",
       "      <th id=\"T_31979_level0_col0\" class=\"col_heading level0 col0\" >threads</th>\n",
       "      <th id=\"T_31979_level0_col1\" class=\"col_heading level0 col1\" >size</th>\n",
       "      <th id=\"T_31979_level0_col2\" class=\"col_heading level0 col2\" >arg1</th>\n",
       "      <th id=\"T_31979_level0_col3\" class=\"col_heading level0 col3\" >this_core</th>\n",
       "      <th id=\"T_31979_level0_col4\" class=\"col_heading level0 col4\" >other_core</th>\n",
       "      <th id=\"T_31979_level0_col5\" class=\"col_heading level0 col5\" >arg3</th>\n",
       "      <th id=\"T_31979_level0_col6\" class=\"col_heading level0 col6\" >IC</th>\n",
       "      <th id=\"T_31979_level0_col7\" class=\"col_heading level0 col7\" >CPI</th>\n",
       "      <th id=\"T_31979_level0_col8\" class=\"col_heading level0 col8\" >CT</th>\n",
       "      <th id=\"T_31979_level0_col9\" class=\"col_heading level0 col9\" >ET</th>\n",
       "      <th id=\"T_31979_level0_col10\" class=\"col_heading level0 col10\" >L1_dcache_miss_rate</th>\n",
       "    </tr>\n",
       "  </thead>\n",
       "  <tbody>\n",
       "    <tr>\n",
       "      <th id=\"T_31979_level0_row0\" class=\"row_heading level0 row0\" >0</th>\n",
       "      <td id=\"T_31979_row0_col0\" class=\"data row0 col0\" >1</td>\n",
       "      <td id=\"T_31979_row0_col1\" class=\"data row0 col1\" >1048576</td>\n",
       "      <td id=\"T_31979_row0_col2\" class=\"data row0 col2\" >10000000</td>\n",
       "      <td id=\"T_31979_row0_col3\" class=\"data row0 col3\" >0</td>\n",
       "      <td id=\"T_31979_row0_col4\" class=\"data row0 col4\" >0</td>\n",
       "      <td id=\"T_31979_row0_col5\" class=\"data row0 col5\" >0</td>\n",
       "      <td id=\"T_31979_row0_col6\" class=\"data row0 col6\" >1115405140</td>\n",
       "      <td id=\"T_31979_row0_col7\" class=\"data row0 col7\" >0.722010</td>\n",
       "      <td id=\"T_31979_row0_col8\" class=\"data row0 col8\" >0.382393</td>\n",
       "      <td id=\"T_31979_row0_col9\" class=\"data row0 col9\" >0.307954</td>\n",
       "      <td id=\"T_31979_row0_col10\" class=\"data row0 col10\" >0.000037</td>\n",
       "    </tr>\n",
       "    <tr>\n",
       "      <th id=\"T_31979_level0_row1\" class=\"row_heading level0 row1\" >1</th>\n",
       "      <td id=\"T_31979_row1_col0\" class=\"data row1 col0\" >1</td>\n",
       "      <td id=\"T_31979_row1_col1\" class=\"data row1 col1\" >1048576</td>\n",
       "      <td id=\"T_31979_row1_col2\" class=\"data row1 col2\" >10000000</td>\n",
       "      <td id=\"T_31979_row1_col3\" class=\"data row1 col3\" >0</td>\n",
       "      <td id=\"T_31979_row1_col4\" class=\"data row1 col4\" >1</td>\n",
       "      <td id=\"T_31979_row1_col5\" class=\"data row1 col5\" >0</td>\n",
       "      <td id=\"T_31979_row1_col6\" class=\"data row1 col6\" >2083428810</td>\n",
       "      <td id=\"T_31979_row1_col7\" class=\"data row1 col7\" >2.204784</td>\n",
       "      <td id=\"T_31979_row1_col8\" class=\"data row1 col8\" >0.195953</td>\n",
       "      <td id=\"T_31979_row1_col9\" class=\"data row1 col9\" >0.900113</td>\n",
       "      <td id=\"T_31979_row1_col10\" class=\"data row1 col10\" >0.009458</td>\n",
       "    </tr>\n",
       "  </tbody>\n",
       "</table>\n"
      ],
      "text/plain": [
       "<pandas.io.formats.style.Styler at 0x7fb07476ebb0>"
      ]
     },
     "metadata": {},
     "output_type": "display_data"
    },
    {
     "data": {
      "image/png": "[encoded data removed]",
      "text/plain": [
       "<Figure size 1600x400 with 3 Axes>"
      ]
     },
     "metadata": {
      "needs_background": "light"
     },
     "output_type": "display_data"
    }
   ],
   "source": [
    "df = render_csv(\"coherence.csv\") df[\"other_core\"] = df[\"arg2\"] df[\"this_core\"] =\\ \n",
    "df[\"arg3\"] df[\"assignmentel\"] = df[\"arg2\"].astype(str) + \" to \" +\\ \n",
    "df[\"arg3\"].astype(str)  df[\"IC per increment\"] = df[\"IC\"]/df[\"arg1\"] df[\"Cycles\\ \n",
    "per increment\"] = df[\"Cycles\"]/df[\"arg1\"] display_mono(df[[\"threads\", \"size\",\\ \n",
    "\"arg1\", \"this_core\", \"other_core\", \"arg3\", \"IC\", \"CPI\", \"CT\", \"ET\",\\ \n",
    "\"L1_dcache_miss_rate\"]]) plotPEBar(df=df,  what=[(\"assignmentel\", \"CPI\"),\\ \n",
    "(\"assignmentel\", \"ET\"), (\"assignmentel\", \"L1_dcache_misses\")])"
   ]
  },
  {
   "cell_type": "code",
   "execution_count": 20,
   "metadata": {
    "cse142.is_response": true,
    "deletable": false,
    "tags": []
   },
   "outputs": [
    {
     "data": {
      "text/html": [
       "<style type=\"text/css\">\n",
       "#T_f0e79_row0_col0, #T_f0e79_row0_col1, #T_f0e79_row0_col2, #T_f0e79_row0_col3, #T_f0e79_row0_col4, #T_f0e79_row0_col5, #T_f0e79_row0_col6, #T_f0e79_row0_col7, #T_f0e79_row0_col8, #T_f0e79_row0_col9, #T_f0e79_row1_col0, #T_f0e79_row1_col1, #T_f0e79_row1_col2, #T_f0e79_row1_col3, #T_f0e79_row1_col4, #T_f0e79_row1_col5, #T_f0e79_row1_col6, #T_f0e79_row1_col7, #T_f0e79_row1_col8, #T_f0e79_row1_col9 {\n",
       "  font-family: monospace;\n",
       "}\n",
       "</style>\n",
       "<table id=\"T_f0e79\">\n",
       "  <thead>\n",
       "    <tr>\n",
       "      <th class=\"blank level0\" >&nbsp;</th>\n",
       "      <th id=\"T_f0e79_level0_col0\" class=\"col_heading level0 col0\" >threads</th>\n",
       "      <th id=\"T_f0e79_level0_col1\" class=\"col_heading level0 col1\" >size</th>\n",
       "      <th id=\"T_f0e79_level0_col2\" class=\"col_heading level0 col2\" >arg1</th>\n",
       "      <th id=\"T_f0e79_level0_col3\" class=\"col_heading level0 col3\" >other_core</th>\n",
       "      <th id=\"T_f0e79_level0_col4\" class=\"col_heading level0 col4\" >arg3</th>\n",
       "      <th id=\"T_f0e79_level0_col5\" class=\"col_heading level0 col5\" >IC</th>\n",
       "      <th id=\"T_f0e79_level0_col6\" class=\"col_heading level0 col6\" >CPI</th>\n",
       "      <th id=\"T_f0e79_level0_col7\" class=\"col_heading level0 col7\" >CT</th>\n",
       "      <th id=\"T_f0e79_level0_col8\" class=\"col_heading level0 col8\" >ET</th>\n",
       "      <th id=\"T_f0e79_level0_col9\" class=\"col_heading level0 col9\" >L1_dcache_miss_rate</th>\n",
       "    </tr>\n",
       "  </thead>\n",
       "  <tbody>\n",
       "    <tr>\n",
       "      <th id=\"T_f0e79_level0_row0\" class=\"row_heading level0 row0\" >0</th>\n",
       "      <td id=\"T_f0e79_row0_col0\" class=\"data row0 col0\" >1</td>\n",
       "      <td id=\"T_f0e79_row0_col1\" class=\"data row0 col1\" >1048576</td>\n",
       "      <td id=\"T_f0e79_row0_col2\" class=\"data row0 col2\" >10000000</td>\n",
       "      <td id=\"T_f0e79_row0_col3\" class=\"data row0 col3\" >0</td>\n",
       "      <td id=\"T_f0e79_row0_col4\" class=\"data row0 col4\" >0</td>\n",
       "      <td id=\"T_f0e79_row0_col5\" class=\"data row0 col5\" >105397285</td>\n",
       "      <td id=\"T_f0e79_row0_col6\" class=\"data row0 col6\" >0.711024</td>\n",
       "      <td id=\"T_f0e79_row0_col7\" class=\"data row0 col7\" >0.432479</td>\n",
       "      <td id=\"T_f0e79_row0_col8\" class=\"data row0 col8\" >0.032410</td>\n",
       "      <td id=\"T_f0e79_row0_col9\" class=\"data row0 col9\" >0.000284</td>\n",
       "    </tr>\n",
       "    <tr>\n",
       "      <th id=\"T_f0e79_level0_row1\" class=\"row_heading level0 row1\" >1</th>\n",
       "      <td id=\"T_f0e79_row1_col0\" class=\"data row1 col0\" >1</td>\n",
       "      <td id=\"T_f0e79_row1_col1\" class=\"data row1 col1\" >1048576</td>\n",
       "      <td id=\"T_f0e79_row1_col2\" class=\"data row1 col2\" >10000000</td>\n",
       "      <td id=\"T_f0e79_row1_col3\" class=\"data row1 col3\" >1</td>\n",
       "      <td id=\"T_f0e79_row1_col4\" class=\"data row1 col4\" >0</td>\n",
       "      <td id=\"T_f0e79_row1_col5\" class=\"data row1 col5\" >97256127</td>\n",
       "      <td id=\"T_f0e79_row1_col6\" class=\"data row1 col6\" >0.937709</td>\n",
       "      <td id=\"T_f0e79_row1_col7\" class=\"data row1 col7\" >0.230115</td>\n",
       "      <td id=\"T_f0e79_row1_col8\" class=\"data row1 col8\" >0.020986</td>\n",
       "      <td id=\"T_f0e79_row1_col9\" class=\"data row1 col9\" >0.017682</td>\n",
       "    </tr>\n",
       "  </tbody>\n",
       "</table>\n"
      ],
      "text/plain": [
       "<pandas.io.formats.style.Styler at 0x7fb074586610>"
      ]
     },
     "metadata": {},
     "output_type": "display_data"
    },
    {
     "data": {
      "image/png": "[encoded data removed]",
      "text/plain": [
       "<Figure size 1600x400 with 3 Axes>"
      ]
     },
     "metadata": {
      "needs_background": "light"
     },
     "output_type": "display_data"
    }
   ],
   "source": [
    "df = render_csv(\"false_sharing.csv\") df[\"other_core\"] = df[\"arg2\"]\\ \n",
    "df[\"this_core\"] = df[\"arg3\"] df[\"assignmentel\"] = df[\"arg2\"].astype(str) + \" to\\ \n",
    "\" + df[\"arg3\"].astype(str)  df[\"IC per increment\"] = df[\"IC\"]/df[\"arg1\"]\\ \n",
    "df[\"Cycles per increment\"] = df[\"Cycles\"]/df[\"arg1\"] display_mono(df[[\"threads\",\\ \n",
    "\"size\", \"arg1\", \"other_core\", \"arg3\", \"IC\", \"CPI\", \"CT\", \"ET\",\\ \n",
    "\"L1_dcache_miss_rate\"]]) plotPEBar(df=df,  what=[(\"assignmentel\", \"CPI\"),\\ \n",
    "(\"assignmentel\", \"ET\"), (\"assignmentel\", \"L1_dcache_misses\")])"
   ]
  },
  {
   "cell_type": "markdown",
   "metadata": {
    "cse142.is_response": true,
    "cse142.points": 1,
    "cse142.question_type": "completeness",
    "deletable": false,
    "editable": false,
    "tags": []
   },
   "source": [
    "<div class=\"alert alert-block alert-success\">\n",
    "\n",
    "\n",
    "### Question 5 (CSE142 & CSE142L)    \n",
    "\n",
    "\n",
    "\n",
    "How much difference in performance do you see between running both threads on one core vs. running them on two cores?\n",
    "    \n",
    "\n",
    "</div>"
   ]
  },
  {
   "cell_type": "markdown",
   "metadata": {
    "cse142.is_response": true,
    "cse142.points": 1,
    "cse142.question_type": "completeness",
    "deletable": false,
    "editable": true,
    "tags": []
   },
   "source": [
    "<div class=\"alert alert-block alert-success\">   \n",
    "\n",
    "\n",
    "Please make sure to include your calculations and clearly state the final answer in this cell. If necessary, you should use LaTeX syntax for equations and formulas. Your answers must base on the experiments above.\n",
    "\n",
    "Answer: 0.032410/0.020986 =1.54436290861\n",
    "    The total difference in performance is that the two cores is running 1.54436290861x faster\n",
    "    \n",
    "\n",
    "\n",
    "</div>"
   ]
  },
  {
   "cell_type": "markdown",
   "metadata": {
    "cse142.is_response": true,
    "cse142.points": 1,
    "cse142.question_type": "completeness",
    "deletable": false,
    "tags": []
   },
   "source": [
    "<div class=\"alert alert-block alert-warning\">\n",
    "\n",
    "\n",
    "\n",
    "### Question 6 (CSE142L Only)    \n",
    "\n",
    "\n",
    "\n",
    "Add a single line to the code above to get the 2x performance improvement we seek. (Hint:  The memory system thinks in cache lines and so should you).\n",
    "    \n",
    "\n",
    "</div>"
   ]
  },
  {
   "cell_type": "code",
   "execution_count": 63,
   "metadata": {
    "cse142.is_response": true,
    "cse142.points": 1,
    "cse142.question_type": "completeness",
    "deletable": false,
    "tags": []
   },
   "outputs": [
    {
     "name": "stdout",
     "output_type": "stream",
     "text": [
      "Done code generation...\n",
      "make: 'fiddle.exe' is up to date.\n",
      "make: Warning: File 'build/false_sharing_2.so' has modification time 15 s in the future\n",
      "mkdir -p build/ \n",
      "cp *.hpp build/\n",
      "cp *.h   build/\n",
      "g++-9  -DHAVE_LINUX_PERF_EVENT_H -pthread -DHAVE_LINUX_PERF_EVENT_H -I/home/dlwang/2025su-cse142-cse142l-parallelism-starter -g -O3 -fopenmp -lm -pthread -lboost_program_options -L/usr/lib/ -lboost_system -ldl  -rdynamic -fPIC -shared -o build/false_sharing_2.so build/false_sharing_2.cpp\n",
      "make: warning:  Clock skew detected.  Your build may be incomplete.\n",
      "Running on the cloud for: dlwang@ucsd.edu\n",
      "registering function: false_sharing_2\n",
      "Dynamically registering false_sharing_2\n",
      "Execution started\n",
      "Execution completed\n"
     ]
    },
    {
     "data": {
      "text/html": [
       "<style type=\"text/css\">\n",
       "#T_5b210_row0_col0, #T_5b210_row0_col1, #T_5b210_row0_col2, #T_5b210_row0_col3, #T_5b210_row0_col4, #T_5b210_row0_col5, #T_5b210_row0_col6, #T_5b210_row0_col7, #T_5b210_row0_col8, #T_5b210_row0_col9, #T_5b210_row1_col0, #T_5b210_row1_col1, #T_5b210_row1_col2, #T_5b210_row1_col3, #T_5b210_row1_col4, #T_5b210_row1_col5, #T_5b210_row1_col6, #T_5b210_row1_col7, #T_5b210_row1_col8, #T_5b210_row1_col9, #T_5b210_row2_col0, #T_5b210_row2_col1, #T_5b210_row2_col2, #T_5b210_row2_col3, #T_5b210_row2_col4, #T_5b210_row2_col5, #T_5b210_row2_col6, #T_5b210_row2_col7, #T_5b210_row2_col8, #T_5b210_row2_col9, #T_5b210_row3_col0, #T_5b210_row3_col1, #T_5b210_row3_col2, #T_5b210_row3_col3, #T_5b210_row3_col4, #T_5b210_row3_col5, #T_5b210_row3_col6, #T_5b210_row3_col7, #T_5b210_row3_col8, #T_5b210_row3_col9 {\n",
       "  font-family: monospace;\n",
       "}\n",
       "</style>\n",
       "<table id=\"T_5b210\">\n",
       "  <thead>\n",
       "    <tr>\n",
       "      <th class=\"blank level0\" >&nbsp;</th>\n",
       "      <th id=\"T_5b210_level0_col0\" class=\"col_heading level0 col0\" >threads</th>\n",
       "      <th id=\"T_5b210_level0_col1\" class=\"col_heading level0 col1\" >size</th>\n",
       "      <th id=\"T_5b210_level0_col2\" class=\"col_heading level0 col2\" >arg1</th>\n",
       "      <th id=\"T_5b210_level0_col3\" class=\"col_heading level0 col3\" >other_core</th>\n",
       "      <th id=\"T_5b210_level0_col4\" class=\"col_heading level0 col4\" >arg3</th>\n",
       "      <th id=\"T_5b210_level0_col5\" class=\"col_heading level0 col5\" >IC</th>\n",
       "      <th id=\"T_5b210_level0_col6\" class=\"col_heading level0 col6\" >CPI</th>\n",
       "      <th id=\"T_5b210_level0_col7\" class=\"col_heading level0 col7\" >CT</th>\n",
       "      <th id=\"T_5b210_level0_col8\" class=\"col_heading level0 col8\" >ET</th>\n",
       "      <th id=\"T_5b210_level0_col9\" class=\"col_heading level0 col9\" >L1_dcache_miss_rate</th>\n",
       "    </tr>\n",
       "  </thead>\n",
       "  <tbody>\n",
       "    <tr>\n",
       "      <th id=\"T_5b210_level0_row0\" class=\"row_heading level0 row0\" >0</th>\n",
       "      <td id=\"T_5b210_row0_col0\" class=\"data row0 col0\" >1</td>\n",
       "      <td id=\"T_5b210_row0_col1\" class=\"data row0 col1\" >1048576</td>\n",
       "      <td id=\"T_5b210_row0_col2\" class=\"data row0 col2\" >10000000</td>\n",
       "      <td id=\"T_5b210_row0_col3\" class=\"data row0 col3\" >0</td>\n",
       "      <td id=\"T_5b210_row0_col4\" class=\"data row0 col4\" >0</td>\n",
       "      <td id=\"T_5b210_row0_col5\" class=\"data row0 col5\" >105397285</td>\n",
       "      <td id=\"T_5b210_row0_col6\" class=\"data row0 col6\" >0.711024</td>\n",
       "      <td id=\"T_5b210_row0_col7\" class=\"data row0 col7\" >0.432479</td>\n",
       "      <td id=\"T_5b210_row0_col8\" class=\"data row0 col8\" >0.032410</td>\n",
       "      <td id=\"T_5b210_row0_col9\" class=\"data row0 col9\" >0.000284</td>\n",
       "    </tr>\n",
       "    <tr>\n",
       "      <th id=\"T_5b210_level0_row1\" class=\"row_heading level0 row1\" >1</th>\n",
       "      <td id=\"T_5b210_row1_col0\" class=\"data row1 col0\" >1</td>\n",
       "      <td id=\"T_5b210_row1_col1\" class=\"data row1 col1\" >1048576</td>\n",
       "      <td id=\"T_5b210_row1_col2\" class=\"data row1 col2\" >10000000</td>\n",
       "      <td id=\"T_5b210_row1_col3\" class=\"data row1 col3\" >1</td>\n",
       "      <td id=\"T_5b210_row1_col4\" class=\"data row1 col4\" >0</td>\n",
       "      <td id=\"T_5b210_row1_col5\" class=\"data row1 col5\" >97256127</td>\n",
       "      <td id=\"T_5b210_row1_col6\" class=\"data row1 col6\" >0.937709</td>\n",
       "      <td id=\"T_5b210_row1_col7\" class=\"data row1 col7\" >0.230115</td>\n",
       "      <td id=\"T_5b210_row1_col8\" class=\"data row1 col8\" >0.020986</td>\n",
       "      <td id=\"T_5b210_row1_col9\" class=\"data row1 col9\" >0.017682</td>\n",
       "    </tr>\n",
       "    <tr>\n",
       "      <th id=\"T_5b210_level0_row2\" class=\"row_heading level0 row2\" >2</th>\n",
       "      <td id=\"T_5b210_row2_col0\" class=\"data row2 col0\" >1</td>\n",
       "      <td id=\"T_5b210_row2_col1\" class=\"data row2 col1\" >1048576</td>\n",
       "      <td id=\"T_5b210_row2_col2\" class=\"data row2 col2\" >10000000</td>\n",
       "      <td id=\"T_5b210_row2_col3\" class=\"data row2 col3\" >0</td>\n",
       "      <td id=\"T_5b210_row2_col4\" class=\"data row2 col4\" >0</td>\n",
       "      <td id=\"T_5b210_row2_col5\" class=\"data row2 col5\" >105384476</td>\n",
       "      <td id=\"T_5b210_row2_col6\" class=\"data row2 col6\" >0.790986</td>\n",
       "      <td id=\"T_5b210_row2_col7\" class=\"data row2 col7\" >0.378346</td>\n",
       "      <td id=\"T_5b210_row2_col8\" class=\"data row2 col8\" >0.031538</td>\n",
       "      <td id=\"T_5b210_row2_col9\" class=\"data row2 col9\" >0.000283</td>\n",
       "    </tr>\n",
       "    <tr>\n",
       "      <th id=\"T_5b210_level0_row3\" class=\"row_heading level0 row3\" >3</th>\n",
       "      <td id=\"T_5b210_row3_col0\" class=\"data row3 col0\" >1</td>\n",
       "      <td id=\"T_5b210_row3_col1\" class=\"data row3 col1\" >1048576</td>\n",
       "      <td id=\"T_5b210_row3_col2\" class=\"data row3 col2\" >10000000</td>\n",
       "      <td id=\"T_5b210_row3_col3\" class=\"data row3 col3\" >1</td>\n",
       "      <td id=\"T_5b210_row3_col4\" class=\"data row3 col4\" >0</td>\n",
       "      <td id=\"T_5b210_row3_col5\" class=\"data row3 col5\" >93881830</td>\n",
       "      <td id=\"T_5b210_row3_col6\" class=\"data row3 col6\" >0.665400</td>\n",
       "      <td id=\"T_5b210_row3_col7\" class=\"data row3 col7\" >0.294338</td>\n",
       "      <td id=\"T_5b210_row3_col8\" class=\"data row3 col8\" >0.018387</td>\n",
       "      <td id=\"T_5b210_row3_col9\" class=\"data row3 col9\" >0.000177</td>\n",
       "    </tr>\n",
       "  </tbody>\n",
       "</table>\n"
      ],
      "text/plain": [
       "<pandas.io.formats.style.Styler at 0x7fb05d30e910>"
      ]
     },
     "metadata": {},
     "output_type": "display_data"
    },
    {
     "data": {
      "image/png": "[encoded data removed]",
      "text/plain": [
       "<Figure size 1600x400 with 3 Axes>"
      ]
     },
     "metadata": {
      "needs_background": "light"
     },
     "output_type": "display_data"
    }
   ],
   "source": [
    "# Please modify the following code in \"false_sharing_2\" and show result!  t =\\ \n",
    "fiddle(\"false_sharing_2.cpp\", function=\"false_sharing_2\", opt=\"-O3\", code=r\"\"\"\\ \n",
    "#include\"function_map.hpp\" #include<cstdint> #include<thread> #include<mutex>\\ \n",
    "#include\"threads.hpp\" #include\"pthread.h\"  volatile int shared = 0; volatile int\\ \n",
    "not_shared_0 = 0;     uint64_t filler[8]; volatile int not_shared_1 = 0;  void\\ \n",
    "go_0(uint64_t id,int count) {     for(int i= 0; i < count; i++){\\ \n",
    "not_shared_0++;     } }  void go_1(uint64_t id,int count) {     for(int i= 0; i\\ \n",
    "< count; i++){         not_shared_1++;     } }  extern \"C\" uint64_t*\\ \n",
    "false_sharing_2(uint64_t thread_count, uint64_t * data, uint64_t size, uint64_t\\ \n",
    "arg1, uint64_t arg2, uint64_t arg3) {     shared = 0;     std::thread other\\ \n",
    "(go_0, 1, arg1);     bind_to_core(other, arg2);\\ \n",
    "bind_to_core(pthread_self(), arg3);     go_1(0, arg1);     other.join();\\ \n",
    "shared = not_shared_0 + not_shared_1;     return data; }\\ \n",
    "FUNCTION(one_array_2arg, false_sharing_2); \"\"\")   ! make fiddle.exe; make\\ \n",
    "C_OPTS=\"-O3\" build/false_sharing_2.so ! cse142 run \"./fiddle.exe -lib\\ \n",
    "./build/false_sharing_2.so -M 3700 --detail -f false_sharing_2 --arg1 10000000\\ \n",
    "--arg2 0 1   --arg3 0 -o false_sharing_2.csv\"\\ \n",
    "df=render_csv([\"false_sharing.csv\",\"false_sharing_2.csv\"]) df[\"other_core\"] =\\ \n",
    "df[\"arg2\"] df[\"this_core\"] = df[\"arg3\"] df[\"assignmentel\"] =\\ \n",
    "df[\"arg2\"].astype(str) + \" to \" + df[\"arg3\"].astype(str)  df[\"IC per increment\"]\\ \n",
    "= df[\"IC\"]/df[\"arg1\"] df[\"Cycles per increment\"] = df[\"Cycles\"]/df[\"arg1\"]\\ \n",
    "display_mono(df[[\"threads\", \"size\", \"arg1\", \"other_core\", \"arg3\", \"IC\", \"CPI\",\\ \n",
    "\"CT\", \"ET\", \"L1_dcache_miss_rate\"]]) plotPEBar(df=df,  what=[(\"assignmentel\",\\ \n",
    "\"CPI\"), (\"assignmentel\", \"ET\"), (\"assignmentel\", \"L1_dcache_misses\")])"
   ]
  },
  {
   "cell_type": "markdown",
   "metadata": {
    "cse142.is_response": true,
    "cse142.points": 1,
    "cse142.question_type": "correctness",
    "deletable": false,
    "editable": false,
    "tags": []
   },
   "source": [
    "<div class=\"alert alert-block alert-success\">\n",
    "\n",
    "\n",
    "### Question 7 (CSE142 & CSE142L)    \n",
    "\n",
    "\n",
    "\n",
    "Would this code benefit from tiling as a locality optimization?  Why or why not? \n",
    "\n",
    "\n",
    "</div>"
   ]
  },
  {
   "cell_type": "markdown",
   "metadata": {
    "cse142.is_response": true,
    "cse142.points": 1,
    "cse142.question_type": "correctness",
    "deletable": false,
    "editable": true,
    "tags": []
   },
   "source": [
    "<div class=\"alert alert-block alert-success\">    \n",
    "\n",
    "\n",
    "Answer: No, as the cache miss rate is relatively low and tiling helps spatial locality, which isnt a problem here. Tiling properly would require multiple histogram threads that only updates locally until when all the threads are done, combining at the end.\n",
    "        \n",
    "Please explain in detail to receive credits\n",
    "</div>"
   ]
  },
  {
   "cell_type": "code",
   "execution_count": 28,
   "metadata": {
    "cse142.is_response": true,
    "cse142.points": 1,
    "cse142.question_type": "completeness",
    "deletable": false,
    "editable": false,
    "tags": []
   },
   "outputs": [
    {
     "data": {
      "text/html": [
       "<div>\n",
       "<style scoped>\n",
       "    .dataframe tbody tr th:only-of-type {\n",
       "        vertical-align: middle;\n",
       "    }\n",
       "\n",
       "    .dataframe tbody tr th {\n",
       "        vertical-align: top;\n",
       "    }\n",
       "\n",
       "    .dataframe thead th {\n",
       "        text-align: right;\n",
       "    }\n",
       "</style>\n",
       "<table border=\"1\" class=\"dataframe\">\n",
       "  <thead>\n",
       "    <tr style=\"text-align: right;\">\n",
       "      <th></th>\n",
       "      <th>index</th>\n",
       "      <th>function</th>\n",
       "      <th>threads</th>\n",
       "      <th>size</th>\n",
       "      <th>arg1</th>\n",
       "      <th>arg2</th>\n",
       "      <th>arg3</th>\n",
       "      <th>IC</th>\n",
       "      <th>CPI</th>\n",
       "      <th>ET</th>\n",
       "      <th>L1_dcache_misses</th>\n",
       "      <th>L1_dcache_miss_rate</th>\n",
       "      <th>speedup</th>\n",
       "      <th>Total IC</th>\n",
       "      <th>Total cache misses</th>\n",
       "    </tr>\n",
       "  </thead>\n",
       "  <tbody>\n",
       "    <tr>\n",
       "      <th>0</th>\n",
       "      <td>0</td>\n",
       "      <td>run_unthreaded_histogram</td>\n",
       "      <td>1</td>\n",
       "      <td>10000000</td>\n",
       "      <td>1</td>\n",
       "      <td>1</td>\n",
       "      <td>1</td>\n",
       "      <td>297668806</td>\n",
       "      <td>0.296044</td>\n",
       "      <td>0.040768</td>\n",
       "      <td>1139737</td>\n",
       "      <td>0.006413</td>\n",
       "      <td>1.000000</td>\n",
       "      <td>297668806</td>\n",
       "      <td>1139737</td>\n",
       "    </tr>\n",
       "    <tr>\n",
       "      <th>1</th>\n",
       "      <td>0</td>\n",
       "      <td>run_threaded_histogram</td>\n",
       "      <td>1</td>\n",
       "      <td>10000000</td>\n",
       "      <td>1</td>\n",
       "      <td>1</td>\n",
       "      <td>1</td>\n",
       "      <td>4804320935</td>\n",
       "      <td>0.645961</td>\n",
       "      <td>1.176817</td>\n",
       "      <td>1173272</td>\n",
       "      <td>0.000686</td>\n",
       "      <td>0.034643</td>\n",
       "      <td>4804320935</td>\n",
       "      <td>1173272</td>\n",
       "    </tr>\n",
       "    <tr>\n",
       "      <th>2</th>\n",
       "      <td>1</td>\n",
       "      <td>run_threaded_histogram</td>\n",
       "      <td>2</td>\n",
       "      <td>10000000</td>\n",
       "      <td>1</td>\n",
       "      <td>1</td>\n",
       "      <td>1</td>\n",
       "      <td>10135282063</td>\n",
       "      <td>2.527131</td>\n",
       "      <td>4.952880</td>\n",
       "      <td>82942523</td>\n",
       "      <td>0.021894</td>\n",
       "      <td>0.008231</td>\n",
       "      <td>20270564126</td>\n",
       "      <td>165885046</td>\n",
       "    </tr>\n",
       "    <tr>\n",
       "      <th>3</th>\n",
       "      <td>2</td>\n",
       "      <td>run_threaded_histogram</td>\n",
       "      <td>3</td>\n",
       "      <td>10000000</td>\n",
       "      <td>1</td>\n",
       "      <td>1</td>\n",
       "      <td>1</td>\n",
       "      <td>12250990706</td>\n",
       "      <td>2.905678</td>\n",
       "      <td>4.865214</td>\n",
       "      <td>139144613</td>\n",
       "      <td>0.030132</td>\n",
       "      <td>0.008379</td>\n",
       "      <td>36752972118</td>\n",
       "      <td>417433839</td>\n",
       "    </tr>\n",
       "    <tr>\n",
       "      <th>4</th>\n",
       "      <td>3</td>\n",
       "      <td>run_threaded_histogram</td>\n",
       "      <td>4</td>\n",
       "      <td>10000000</td>\n",
       "      <td>1</td>\n",
       "      <td>1</td>\n",
       "      <td>1</td>\n",
       "      <td>16805729207</td>\n",
       "      <td>3.060358</td>\n",
       "      <td>6.211050</td>\n",
       "      <td>230530971</td>\n",
       "      <td>0.036229</td>\n",
       "      <td>0.006564</td>\n",
       "      <td>67222916828</td>\n",
       "      <td>922123884</td>\n",
       "    </tr>\n",
       "    <tr>\n",
       "      <th>5</th>\n",
       "      <td>4</td>\n",
       "      <td>run_threaded_histogram</td>\n",
       "      <td>5</td>\n",
       "      <td>10000000</td>\n",
       "      <td>1</td>\n",
       "      <td>1</td>\n",
       "      <td>1</td>\n",
       "      <td>21736706538</td>\n",
       "      <td>3.149658</td>\n",
       "      <td>7.370441</td>\n",
       "      <td>337068099</td>\n",
       "      <td>0.040688</td>\n",
       "      <td>0.005531</td>\n",
       "      <td>108683532690</td>\n",
       "      <td>1685340495</td>\n",
       "    </tr>\n",
       "    <tr>\n",
       "      <th>6</th>\n",
       "      <td>5</td>\n",
       "      <td>run_threaded_histogram</td>\n",
       "      <td>6</td>\n",
       "      <td>10000000</td>\n",
       "      <td>1</td>\n",
       "      <td>1</td>\n",
       "      <td>1</td>\n",
       "      <td>26497699888</td>\n",
       "      <td>3.209106</td>\n",
       "      <td>8.136385</td>\n",
       "      <td>451842212</td>\n",
       "      <td>0.044759</td>\n",
       "      <td>0.005011</td>\n",
       "      <td>158986199328</td>\n",
       "      <td>2711053272</td>\n",
       "    </tr>\n",
       "    <tr>\n",
       "      <th>7</th>\n",
       "      <td>6</td>\n",
       "      <td>run_threaded_histogram</td>\n",
       "      <td>7</td>\n",
       "      <td>10000000</td>\n",
       "      <td>1</td>\n",
       "      <td>1</td>\n",
       "      <td>1</td>\n",
       "      <td>37311786012</td>\n",
       "      <td>4.018414</td>\n",
       "      <td>12.718664</td>\n",
       "      <td>704576112</td>\n",
       "      <td>0.049433</td>\n",
       "      <td>0.003205</td>\n",
       "      <td>261182502084</td>\n",
       "      <td>4932032784</td>\n",
       "    </tr>\n",
       "    <tr>\n",
       "      <th>8</th>\n",
       "      <td>7</td>\n",
       "      <td>run_threaded_histogram</td>\n",
       "      <td>8</td>\n",
       "      <td>10000000</td>\n",
       "      <td>1</td>\n",
       "      <td>1</td>\n",
       "      <td>1</td>\n",
       "      <td>44784475369</td>\n",
       "      <td>4.445502</td>\n",
       "      <td>14.672713</td>\n",
       "      <td>910105708</td>\n",
       "      <td>0.053595</td>\n",
       "      <td>0.002778</td>\n",
       "      <td>358275802952</td>\n",
       "      <td>7280845664</td>\n",
       "    </tr>\n",
       "  </tbody>\n",
       "</table>\n",
       "</div>"
      ],
      "text/plain": [
       "   index                  function  threads      size  arg1  arg2  arg3  \\\n",
       "0      0  run_unthreaded_histogram        1  10000000     1     1     1   \n",
       "1      0    run_threaded_histogram        1  10000000     1     1     1   \n",
       "2      1    run_threaded_histogram        2  10000000     1     1     1   \n",
       "3      2    run_threaded_histogram        3  10000000     1     1     1   \n",
       "4      3    run_threaded_histogram        4  10000000     1     1     1   \n",
       "5      4    run_threaded_histogram        5  10000000     1     1     1   \n",
       "6      5    run_threaded_histogram        6  10000000     1     1     1   \n",
       "7      6    run_threaded_histogram        7  10000000     1     1     1   \n",
       "8      7    run_threaded_histogram        8  10000000     1     1     1   \n",
       "\n",
       "            IC       CPI         ET  L1_dcache_misses  L1_dcache_miss_rate  \\\n",
       "0    297668806  0.296044   0.040768           1139737             0.006413   \n",
       "1   4804320935  0.645961   1.176817           1173272             0.000686   \n",
       "2  10135282063  2.527131   4.952880          82942523             0.021894   \n",
       "3  12250990706  2.905678   4.865214         139144613             0.030132   \n",
       "4  16805729207  3.060358   6.211050         230530971             0.036229   \n",
       "5  21736706538  3.149658   7.370441         337068099             0.040688   \n",
       "6  26497699888  3.209106   8.136385         451842212             0.044759   \n",
       "7  37311786012  4.018414  12.718664         704576112             0.049433   \n",
       "8  44784475369  4.445502  14.672713         910105708             0.053595   \n",
       "\n",
       "    speedup      Total IC  Total cache misses  \n",
       "0  1.000000     297668806             1139737  \n",
       "1  0.034643    4804320935             1173272  \n",
       "2  0.008231   20270564126           165885046  \n",
       "3  0.008379   36752972118           417433839  \n",
       "4  0.006564   67222916828           922123884  \n",
       "5  0.005531  108683532690          1685340495  \n",
       "6  0.005011  158986199328          2711053272  \n",
       "7  0.003205  261182502084          4932032784  \n",
       "8  0.002778  358275802952          7280845664  "
      ]
     },
     "metadata": {},
     "output_type": "display_data"
    },
    {
     "data": {
      "image/png": "[encoded data removed]",
      "text/plain": [
       "<Figure size 1152x288 with 1 Axes>"
      ]
     },
     "metadata": {
      "needs_background": "light"
     },
     "output_type": "display_data"
    }
   ],
   "source": [
    "hist_data = render_csv([\"histogram_unthreaded.csv\", \"histogram_threaded.csv\"],\\ \n",
    "columns=hist_columns) hist_data[\"speedup\"] =\\ \n",
    "hist_data.iloc[0][\"ET\"]/hist_data[\"ET\"] hist_data[\"Total IC\"] =\\ \n",
    "hist_data[\"IC\"]*hist_data[\"threads\"] hist_data[\"Total cache misses\"] =\\ \n",
    "hist_data[\"L1_dcache_misses\"]*hist_data[\"threads\"] display(hist_data)\\ \n",
    "plotPE(df=hist_data, lines=True, what=[(\"threads\", \"speedup\")])"
   ]
  },
  {
   "cell_type": "markdown",
   "metadata": {
    "cse142.is_response": true,
    "cse142.points": 1,
    "cse142.question_type": "completeness",
    "deletable": false,
    "editable": false,
    "tags": []
   },
   "source": [
    "<div class=\"alert alert-block alert-success\">\n",
    "\n",
    "    \n",
    "### Question 8 (CSE142 & CSE142L)\n",
    "\n",
    "\n",
    "How much speedup do you observe with 4 threads? Why?\n",
    "\n",
    "\n",
    "</div>"
   ]
  },
  {
   "cell_type": "markdown",
   "metadata": {
    "cse142.is_response": true,
    "cse142.points": 1,
    "cse142.question_type": "completeness",
    "deletable": false,
    "editable": true,
    "tags": []
   },
   "source": [
    "<div class=\"alert alert-block alert-success\">    \n",
    "<div class=\"answer\">\n",
    "[Please include your calculations in addition to the numerical result. Your answer should come from the experiment above and should include LaTeX forumla if necessary.]\n",
    "\n",
    "**Speedup:** 0.040768/6.211050 =0.00656378551 \n",
    "\n",
    "**Why:** Speedup is limited due to the locks in the code\n",
    "    \n",
    "        \n",
    "</div>\n",
    "</div>"
   ]
  },
  {
   "cell_type": "markdown",
   "metadata": {
    "cse142.is_response": true,
    "cse142.points": 1,
    "cse142.question_type": "completeness",
    "deletable": false,
    "editable": false,
    "tags": []
   },
   "source": [
    "<div class=\"alert alert-block alert-warning\">\n",
    "\n",
    "\n",
    "### Question 9 (CSE142L Only)    \n",
    "\n",
    "\n",
    "\n",
    "What causes the drop in performance from 1 thread to 2?  How can we fix it?\n",
    "    \n",
    "</div>"
   ]
  },
  {
   "cell_type": "markdown",
   "metadata": {
    "cse142.is_response": true,
    "cse142.points": 1,
    "cse142.question_type": "completeness",
    "deletable": false,
    "tags": []
   },
   "source": [
    "<div class=\"alert alert-block alert-warning\">    \n",
    "\n",
    "[Be sure to provide good enough guess explaination even though this is a completeness one.]\n",
    "\n",
    "Answer: May be due to cache misses from multiple threads interfering with b*thread_count + id. I'm not entirely sure why this is.\n",
    "    \n",
    "    \n",
    "\n",
    "        \n",
    "</div>"
   ]
  },
  {
   "cell_type": "markdown",
   "metadata": {
    "cse142.is_response": true,
    "cse142.question_type": "optional",
    "deletable": false,
    "editable": false,
    "tags": []
   },
   "source": [
    "<div class=\"alert alert-block alert-info\">\n",
    "\n",
    "\n",
    "### Question 10 (CSE142 Only) \n",
    "\n",
    "\n",
    "\n",
    "What is $x$ for parallel merge sort?  Can you bound speedup for 4 processors, a threshold of 1024, and a total array size of 4096?  If you can't get a precise answer try to estimate or provide an upper bound the value of $x$.\n",
    "    \n",
    "</div>\n"
   ]
  },
  {
   "cell_type": "markdown",
   "metadata": {
    "cse142.is_response": true,
    "cse142.question_type": "optional",
    "deletable": false,
    "tags": []
   },
   "source": [
    "<div class=\"alert alert-block alert-info\">  \n",
    "\n",
    "\n",
    "Please observe the above code and explain/justify your estimation.\n",
    "\n",
    "Answer: using big-O, we can get x down to   $x= 1 - \\frac{1}{\\lg n}$\n",
    "    \n",
    "    Using amdahl's law, with p=4 and x = $1 - \\frac{1}{\\lg 4096}$, we get an upper bound of 3.2\n",
    "\n",
    "        \n",
    "</div>"
   ]
  },
  {
   "cell_type": "markdown",
   "metadata": {
    "cse142.is_response": true,
    "cse142.question_type": "optional",
    "deletable": false,
    "tags": []
   },
   "source": [
    "<div class=\"alert alert-block alert-warning\">\n",
    "\n",
    "\n",
    "### Question 11 (CSE142L Only) \n",
    "\n",
    "On Linux, you can use the command `taskset -c list_of_available_cores` to restrict the scheduling policy to allocate your threads on the given set of processors. Can you modified the cell below and find out what's the best list that can deliver the best performance for the runing the histogram program with 4 threads?\n",
    "    \n",
    "Remember that we have 36 logical processors. So the list should only has numbers from 0 to 71.\n",
    "    \n",
    "</div>\n"
   ]
  },
  {
   "cell_type": "code",
   "execution_count": 45,
   "metadata": {
    "cse142.is_response": true,
    "cse142.question_type": "optional",
    "deletable": false,
    "tags": []
   },
   "outputs": [
    {
     "name": "stdout",
     "output_type": "stream",
     "text": [
      "Running on the cloud for: dlwang@ucsd.edu\n",
      "registering function: run_unthreaded_histogram\n",
      "registering function: run_threaded_histogram\n",
      "registering function: run_fine_locks_histogram\n",
      "registering function: run_private_histogram\n",
      "registering function: run_private2_histogram\n",
      "registering function: run_openmp_histogram\n",
      "registering function: run_openmp_private_histogram\n",
      "Dynamically registering run_fine_locks_histogram\n",
      "Dynamically registering run_openmp_histogram\n",
      "Dynamically registering run_openmp_private_histogram\n",
      "Dynamically registering run_private2_histogram\n",
      "Dynamically registering run_private_histogram\n",
      "Dynamically registering run_threaded_histogram\n",
      "Dynamically registering run_unthreaded_histogram\n",
      "Execution started\n",
      "Execution completed\n",
      "Running on the cloud for: dlwang@ucsd.edu\n",
      "registering function: run_unthreaded_histogram\n",
      "registering function: run_threaded_histogram\n",
      "registering function: run_fine_locks_histogram\n",
      "registering function: run_private_histogram\n",
      "registering function: run_private2_histogram\n",
      "registering function: run_openmp_histogram\n",
      "registering function: run_openmp_private_histogram\n",
      "Dynamically registering run_fine_locks_histogram\n",
      "Dynamically registering run_openmp_histogram\n",
      "Dynamically registering run_openmp_private_histogram\n",
      "Dynamically registering run_private2_histogram\n",
      "Dynamically registering run_private_histogram\n",
      "Dynamically registering run_threaded_histogram\n",
      "Dynamically registering run_unthreaded_histogram\n",
      "Execution started\n",
      "Execution completed\n"
     ]
    },
    {
     "data": {
      "text/html": [
       "<style type=\"text/css\">\n",
       "#T_c2eca_row0_col0, #T_c2eca_row0_col1, #T_c2eca_row0_col2, #T_c2eca_row0_col3, #T_c2eca_row0_col4, #T_c2eca_row0_col5, #T_c2eca_row0_col6, #T_c2eca_row0_col7, #T_c2eca_row0_col8, #T_c2eca_row0_col9, #T_c2eca_row0_col10, #T_c2eca_row0_col11, #T_c2eca_row0_col12, #T_c2eca_row0_col13, #T_c2eca_row0_col14, #T_c2eca_row0_col15, #T_c2eca_row0_col16, #T_c2eca_row0_col17, #T_c2eca_row0_col18, #T_c2eca_row1_col0, #T_c2eca_row1_col1, #T_c2eca_row1_col2, #T_c2eca_row1_col3, #T_c2eca_row1_col4, #T_c2eca_row1_col5, #T_c2eca_row1_col6, #T_c2eca_row1_col7, #T_c2eca_row1_col8, #T_c2eca_row1_col9, #T_c2eca_row1_col10, #T_c2eca_row1_col11, #T_c2eca_row1_col12, #T_c2eca_row1_col13, #T_c2eca_row1_col14, #T_c2eca_row1_col15, #T_c2eca_row1_col16, #T_c2eca_row1_col17, #T_c2eca_row1_col18 {\n",
       "  font-family: monospace;\n",
       "}\n",
       "</style>\n",
       "<table id=\"T_c2eca\">\n",
       "  <thead>\n",
       "    <tr>\n",
       "      <th class=\"blank level0\" >&nbsp;</th>\n",
       "      <th id=\"T_c2eca_level0_col0\" class=\"col_heading level0 col0\" >index</th>\n",
       "      <th id=\"T_c2eca_level0_col1\" class=\"col_heading level0 col1\" >reps</th>\n",
       "      <th id=\"T_c2eca_level0_col2\" class=\"col_heading level0 col2\" >size</th>\n",
       "      <th id=\"T_c2eca_level0_col3\" class=\"col_heading level0 col3\" >size2</th>\n",
       "      <th id=\"T_c2eca_level0_col4\" class=\"col_heading level0 col4\" >threads</th>\n",
       "      <th id=\"T_c2eca_level0_col5\" class=\"col_heading level0 col5\" >arg1</th>\n",
       "      <th id=\"T_c2eca_level0_col6\" class=\"col_heading level0 col6\" >arg2</th>\n",
       "      <th id=\"T_c2eca_level0_col7\" class=\"col_heading level0 col7\" >arg3</th>\n",
       "      <th id=\"T_c2eca_level0_col8\" class=\"col_heading level0 col8\" >function</th>\n",
       "      <th id=\"T_c2eca_level0_col9\" class=\"col_heading level0 col9\" >IC</th>\n",
       "      <th id=\"T_c2eca_level0_col10\" class=\"col_heading level0 col10\" >Cycles</th>\n",
       "      <th id=\"T_c2eca_level0_col11\" class=\"col_heading level0 col11\" >CPI</th>\n",
       "      <th id=\"T_c2eca_level0_col12\" class=\"col_heading level0 col12\" >CT</th>\n",
       "      <th id=\"T_c2eca_level0_col13\" class=\"col_heading level0 col13\" >ET</th>\n",
       "      <th id=\"T_c2eca_level0_col14\" class=\"col_heading level0 col14\" >L1_dcache_miss_rate</th>\n",
       "      <th id=\"T_c2eca_level0_col15\" class=\"col_heading level0 col15\" >L1_dcache_misses</th>\n",
       "      <th id=\"T_c2eca_level0_col16\" class=\"col_heading level0 col16\" >L1_dcache_accesses</th>\n",
       "      <th id=\"T_c2eca_level0_col17\" class=\"col_heading level0 col17\" >branches</th>\n",
       "      <th id=\"T_c2eca_level0_col18\" class=\"col_heading level0 col18\" >branch_misses</th>\n",
       "    </tr>\n",
       "  </thead>\n",
       "  <tbody>\n",
       "    <tr>\n",
       "      <th id=\"T_c2eca_level0_row0\" class=\"row_heading level0 row0\" >0</th>\n",
       "      <td id=\"T_c2eca_row0_col0\" class=\"data row0 col0\" >0</td>\n",
       "      <td id=\"T_c2eca_row0_col1\" class=\"data row0 col1\" >1</td>\n",
       "      <td id=\"T_c2eca_row0_col2\" class=\"data row0 col2\" >10000000</td>\n",
       "      <td id=\"T_c2eca_row0_col3\" class=\"data row0 col3\" >16384</td>\n",
       "      <td id=\"T_c2eca_row0_col4\" class=\"data row0 col4\" >4</td>\n",
       "      <td id=\"T_c2eca_row0_col5\" class=\"data row0 col5\" >1</td>\n",
       "      <td id=\"T_c2eca_row0_col6\" class=\"data row0 col6\" >1</td>\n",
       "      <td id=\"T_c2eca_row0_col7\" class=\"data row0 col7\" >1</td>\n",
       "      <td id=\"T_c2eca_row0_col8\" class=\"data row0 col8\" >run_private2_histogram</td>\n",
       "      <td id=\"T_c2eca_row0_col9\" class=\"data row0 col9\" >330387799</td>\n",
       "      <td id=\"T_c2eca_row0_col10\" class=\"data row0 col10\" >428080502</td>\n",
       "      <td id=\"T_c2eca_row0_col11\" class=\"data row0 col11\" >1.295691</td>\n",
       "      <td id=\"T_c2eca_row0_col12\" class=\"data row0 col12\" >0.122680</td>\n",
       "      <td id=\"T_c2eca_row0_col13\" class=\"data row0 col13\" >0.052517</td>\n",
       "      <td id=\"T_c2eca_row0_col14\" class=\"data row0 col14\" >0.016938</td>\n",
       "      <td id=\"T_c2eca_row0_col15\" class=\"data row0 col15\" >3053827</td>\n",
       "      <td id=\"T_c2eca_row0_col16\" class=\"data row0 col16\" >180295382</td>\n",
       "      <td id=\"T_c2eca_row0_col17\" class=\"data row0 col17\" >5327</td>\n",
       "      <td id=\"T_c2eca_row0_col18\" class=\"data row0 col18\" >8602549</td>\n",
       "    </tr>\n",
       "    <tr>\n",
       "      <th id=\"T_c2eca_level0_row1\" class=\"row_heading level0 row1\" >1</th>\n",
       "      <td id=\"T_c2eca_row1_col0\" class=\"data row1 col0\" >0</td>\n",
       "      <td id=\"T_c2eca_row1_col1\" class=\"data row1 col1\" >1</td>\n",
       "      <td id=\"T_c2eca_row1_col2\" class=\"data row1 col2\" >10000000</td>\n",
       "      <td id=\"T_c2eca_row1_col3\" class=\"data row1 col3\" >16384</td>\n",
       "      <td id=\"T_c2eca_row1_col4\" class=\"data row1 col4\" >4</td>\n",
       "      <td id=\"T_c2eca_row1_col5\" class=\"data row1 col5\" >1</td>\n",
       "      <td id=\"T_c2eca_row1_col6\" class=\"data row1 col6\" >1</td>\n",
       "      <td id=\"T_c2eca_row1_col7\" class=\"data row1 col7\" >1</td>\n",
       "      <td id=\"T_c2eca_row1_col8\" class=\"data row1 col8\" >run_private2_histogram</td>\n",
       "      <td id=\"T_c2eca_row1_col9\" class=\"data row1 col9\" >314772471</td>\n",
       "      <td id=\"T_c2eca_row1_col10\" class=\"data row1 col10\" >377439469</td>\n",
       "      <td id=\"T_c2eca_row1_col11\" class=\"data row1 col11\" >1.199087</td>\n",
       "      <td id=\"T_c2eca_row1_col12\" class=\"data row1 col12\" >0.137945</td>\n",
       "      <td id=\"T_c2eca_row1_col13\" class=\"data row1 col13\" >0.052066</td>\n",
       "      <td id=\"T_c2eca_row1_col14\" class=\"data row1 col14\" >0.028775</td>\n",
       "      <td id=\"T_c2eca_row1_col15\" class=\"data row1 col15\" >5044619</td>\n",
       "      <td id=\"T_c2eca_row1_col16\" class=\"data row1 col16\" >175310535</td>\n",
       "      <td id=\"T_c2eca_row1_col17\" class=\"data row1 col17\" >6335</td>\n",
       "      <td id=\"T_c2eca_row1_col18\" class=\"data row1 col18\" >8763260</td>\n",
       "    </tr>\n",
       "  </tbody>\n",
       "</table>\n"
      ],
      "text/plain": [
       "<pandas.io.formats.style.Styler at 0x7fb074531b50>"
      ]
     },
     "metadata": {},
     "output_type": "display_data"
    }
   ],
   "source": [
    "# Please run your experiments below using `taskset` command to find out the 4\\ \n",
    "! cse142 run \"taskset -c 0,1,18,19 ./fiddle.exe -lib ./build/histogram.so -M\\ \n",
    "3700 --detail -f run_private2_histogram --size 10000000 --threads 4 -o\\ \n",
    "histogram_taskset.csv\" ! cse142 run \"taskset -c 0,1,2,3 ./fiddle.exe -lib\\ \n",
    "./build/histogram.so -M 3700 --detail -f run_private2_histogram --size 10000000\\ \n",
    "--threads 4 -o histogram_taskset_2.csv\"\\ \n",
    "display_mono(render_csv([\"histogram_taskset.csv\",\"histogram_taskset_2.csv\"]))"
   ]
  },
  {
   "cell_type": "markdown",
   "metadata": {
    "cse142.is_response": true,
    "cse142.question_type": "optional",
    "deletable": false,
    "tags": []
   },
   "source": [
    "<div class=\"alert alert-block alert-warning\">  \n",
    "\n",
    "\n",
    "Please observe the above experiments that you modified and discuss what's the best combination.\n",
    "\n",
    "Answer: \n",
    "\n",
    "        \n",
    "</div>"
   ]
  }
 ],
 "metadata": {
  "celltoolbar": "Initialization Cell",
  "kernelspec": {
   "display_name": "Python 3 (ipykernel)",
   "language": "python",
   "name": "python3"
  },
  "language_info": {
   "codemirror_mode": {
    "name": "ipython",
    "version": 3
   },
   "file_extension": ".py",
   "mimetype": "text/x-python",
   "name": "python",
   "nbconvert_exporter": "python",
   "pygments_lexer": "ipython3",
   "version": "3.9.7"
  },
  "toc": {
   "base_numbering": 1,
   "nav_menu": {},
   "number_sections": true,
   "sideBar": true,
   "skip_h1_title": false,
   "title_cell": "Table of Contents",
   "title_sidebar": "Contents",
   "toc_cell": false,
   "toc_position": {
    "height": "calc(100% - 180px)",
    "left": "10px",
    "top": "150px",
    "width": "335px"
   },
   "toc_section_display": true,
   "toc_window_display": true
  },
  "toc-autonumbering": true,
  "widgets": {
   "application/vnd.jupyter.widget-state+json": {
    "state": {},
    "version_major": 2,
    "version_minor": 0
   }
  }
 },
 "nbformat": 4,
 "nbformat_minor": 4
}
